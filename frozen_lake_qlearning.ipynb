{
 "cells": [
  {
   "cell_type": "code",
   "execution_count": null,
   "id": "139511e5-9562-47d7-9748-d38991fa5d99",
   "metadata": {},
   "outputs": [],
   "source": [
    "import numpy as np\n",
    "import gym\n",
    "import random\n",
    "import imageio\n",
    "from tqdm.notebook import trange\n",
    "from IPython.display import Image"
   ]
  },
  {
   "cell_type": "code",
   "execution_count": null,
   "id": "620051a0-a8b2-4f9f-ad49-a4b49aa8db95",
   "metadata": {},
   "outputs": [],
   "source": [
    "env = gym.make(\"FrozenLake-v1\", map_name=\"4x4\", is_slippery=False)\n",
    "\n",
    "print(\"Observation Space:\", env.observation_space)\n",
    "print(\"Sample observation:\", env.observation_space.sample())\n",
    "print(\"Action Space Shape:\", env.action_space.n)\n",
    "print(\"Action Space Sample:\", env.action_space.sample())"
   ]
  },
  {
   "cell_type": "code",
   "execution_count": null,
   "id": "1489f805-3a94-4507-ab72-85268bec51ea",
   "metadata": {},
   "outputs": [],
   "source": [
    "state_space = env.observation_space.n\n",
    "action_space = env.action_space.n\n",
    "print(\"There are\", action_space, \"possible actions\")"
   ]
  },
  {
   "cell_type": "code",
   "execution_count": null,
   "id": "f4746b4c-4b89-41f4-82e5-b1fea16501cd",
   "metadata": {},
   "outputs": [],
   "source": [
    "def initialize_q_table(state_space, action_space):\n",
    "    return np.zeros((state_space, action_space))\n",
    "\n",
    "Qtable_frozenlake = initialize_q_table(state_space, action_space)\n",
    "\n",
    "def epsilon_greedy_policy(Qtable, state, epsilon):\n",
    "    if random.uniform(0, 1) > epsilon:\n",
    "        action = np.argmax(Qtable[state])\n",
    "    else:\n",
    "        action = env.action_space.sample()\n",
    "    return action\n",
    "\n",
    "def greedy_policy(Qtable, state):\n",
    "    return np.argmax(Qtable[state])"
   ]
  },
  {
   "cell_type": "code",
   "execution_count": null,
   "id": "005dacc6-9ea3-4c25-afd8-4e7a84c1ddd8",
   "metadata": {},
   "outputs": [],
   "source": [
    "n_training_episodes = 1000\n",
    "learning_rate = 0.7\n",
    "n_eval_episodes = 100\n",
    "max_steps = 99\n",
    "gamma = 0.95\n",
    "max_epsilon = 1.0\n",
    "min_epsilon = 0.5\n",
    "decay_rate = 0.0005"
   ]
  },
  {
   "cell_type": "code",
   "execution_count": null,
   "id": "962191a8-a4f2-4889-b0c8-a83e0a0c5309",
   "metadata": {},
   "outputs": [],
   "source": [
    "def train(n_training_episodes, min_epsilon, max_epsilon, decay_rate, env, max_steps, Qtable):\n",
    "    for episode in trange(n_training_episodes):\n",
    "        reset_result = env.reset()\n",
    "        state = reset_result if isinstance(reset_result, int) else reset_result[0]\n",
    "        epsilon = min_epsilon + (max_epsilon - min_epsilon) * np.exp(-decay_rate * episode)\n",
    "        for step in range(max_steps):\n",
    "            action = epsilon_greedy_policy(Qtable, state, epsilon)\n",
    "            step_result = env.step(action)\n",
    "            if len(step_result) == 4:\n",
    "                new_state, reward, done, _ = step_result\n",
    "            else:\n",
    "                new_state, reward, done, _, _ = step_result\n",
    "            Qtable[state][action] = Qtable[state][action] + learning_rate * (\n",
    "                reward + gamma * np.max(Qtable[new_state]) - Qtable[state][action]\n",
    "            )\n",
    "            if done:\n",
    "                break\n",
    "            state = new_state\n",
    "    return Qtable\n",
    "\n",
    "Qtable_frozenlake = train(n_training_episodes, min_epsilon, max_epsilon, decay_rate, env, max_steps, Qtable_frozenlake)"
   ]
  },
  {
   "cell_type": "code",
   "execution_count": null,
   "id": "2f997df8-021a-4b47-b46e-c478f64ac9c1",
   "metadata": {},
   "outputs": [],
   "source": [
    "def evaluate_agent(env, max_steps, n_eval_episodes, Qtable):\n",
    "    episode_rewards = []\n",
    "    for episode in range(n_eval_episodes):\n",
    "        reset_result = env.reset()\n",
    "        state = reset_result if isinstance(reset_result, int) else reset_result[0]\n",
    "        total_rewards_ep = 0\n",
    "        for step in range(max_steps):\n",
    "            action = np.argmax(Qtable[state])\n",
    "            step_result = env.step(action)\n",
    "            if len(step_result) == 4:\n",
    "                new_state, reward, done, _ = step_result\n",
    "            else:\n",
    "                new_state, reward, done, _, _ = step_result\n",
    "            total_rewards_ep += reward\n",
    "            if done:\n",
    "                break\n",
    "            state = new_state\n",
    "        episode_rewards.append(total_rewards_ep)\n",
    "    mean_reward = np.mean(episode_rewards)\n",
    "    std_reward = np.std(episode_rewards)\n",
    "    return mean_reward, std_reward"
   ]
  },
  {
   "cell_type": "code",
   "execution_count": null,
   "id": "0775ca36-938f-4e08-bff8-0e67d5c45a4e",
   "metadata": {},
   "outputs": [],
   "source": [
    "def record_video(env, Qtable, video_path, fps=2):\n",
    "    frames = []\n",
    "    reset_result = env.reset()\n",
    "    state = reset_result if isinstance(reset_result, int) else reset_result[0]\n",
    "    for _ in range(100):\n",
    "        frames.append(env.render(mode=\"rgb_array\"))\n",
    "        action = np.argmax(Qtable[state])\n",
    "        step_result = env.step(action)\n",
    "        if len(step_result) == 4:\n",
    "            state, _, done, _ = step_result\n",
    "        else:\n",
    "            state, _, done, _, _ = step_result\n",
    "        if done:\n",
    "            break\n",
    "    imageio.mimsave(video_path, frames, fps=fps)"
   ]
  },
  {
   "cell_type": "code",
   "execution_count": null,
   "id": "36b97a33-e4da-433e-b62b-c88573da3887",
   "metadata": {},
   "outputs": [],
   "source": [
    "video_path = \"replay.gif\"\n",
    "video_fps = 2\n",
    "record_video(env, Qtable_frozenlake, video_path, video_fps)\n",
    "Image(video_path)"
   ]
  }
 ],
 "metadata": {
  "kernelspec": {
   "display_name": "Python [conda env:base] *",
   "language": "python",
   "name": "conda-base-py"
  },
  "language_info": {
   "codemirror_mode": {
    "name": "ipython",
    "version": 3
   },
   "file_extension": ".py",
   "mimetype": "text/x-python",
   "name": "python",
   "nbconvert_exporter": "python",
   "pygments_lexer": "ipython3",
   "version": "3.12.7"
  }
 },
 "nbformat": 4,
 "nbformat_minor": 5
}
