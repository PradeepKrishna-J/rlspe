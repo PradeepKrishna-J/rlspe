{
 "cells": [
  {
   "cell_type": "code",
   "execution_count": 12,
   "id": "94f47873-308c-44c9-b2b2-6d1a1cdd668e",
   "metadata": {},
   "outputs": [],
   "source": [
    "import random\n",
    "\n",
    "GRID_SIZE = 5\n",
    "actions = ['up', 'down', 'left', 'right', 'pickup', 'dropoff']\n",
    "pickup_location = (0, 0)\n",
    "dropoff_location = (4, 4)\n",
    "states = [(x, y, has_passenger) for x in range(GRID_SIZE) for y in range(GRID_SIZE) for has_passenger in [False, True]]"
   ]
  },
  {
   "cell_type": "code",
   "execution_count": 14,
   "id": "662e8d1a-367c-4f70-8078-ef24b0ba1fad",
   "metadata": {},
   "outputs": [],
   "source": [
    "def transition_model(state, action):\n",
    "    x, y, has_passenger = state\n",
    "    if action in ['pickup', 'dropoff']:\n",
    "        if action == 'pickup' and not has_passenger and (x, y) == pickup_location:\n",
    "            return [(1.0, (x, y, True))]\n",
    "        elif action == 'dropoff' and has_passenger and (x, y) == dropoff_location:\n",
    "            return [(1.0, (x, y, False))]\n",
    "        else:\n",
    "            return [(1.0, state)]\n",
    "    else:\n",
    "        new_x, new_y = x, y\n",
    "        if action == 'up' and x > 0:\n",
    "            new_x -= 1\n",
    "        elif action == 'down' and x < GRID_SIZE - 1:\n",
    "            new_x += 1\n",
    "        elif action == 'left' and y > 0:\n",
    "            new_y -= 1\n",
    "        elif action == 'right' and y < GRID_SIZE - 1:\n",
    "            new_y += 1\n",
    "        return [(1.0, (new_x, new_y, has_passenger))]"
   ]
  },
  {
   "cell_type": "code",
   "execution_count": 16,
   "id": "da65458d-dcd5-4ceb-af3b-b807eedc99fb",
   "metadata": {},
   "outputs": [],
   "source": [
    "def rewards(s, a, s_):\n",
    "    x, y, has_passenger = s\n",
    "    x_, y_, has_passenger_ = s_\n",
    "    if a == 'pickup':\n",
    "        if (x, y) == pickup_location and not has_passenger:\n",
    "            return -1\n",
    "        else:\n",
    "            return -10\n",
    "    elif a == 'dropoff':\n",
    "        if has_passenger and (x, y) == dropoff_location:\n",
    "            return 20\n",
    "        else:\n",
    "            return -10\n",
    "    else:\n",
    "        return -1"
   ]
  },
  {
   "cell_type": "code",
   "execution_count": 18,
   "id": "499a667c-7308-4a4d-90ac-1710a2485f6f",
   "metadata": {},
   "outputs": [],
   "source": [
    "def value_iteration(states, actions, transition_model, rewards, gamma, theta):\n",
    "    V = {s: 0 for s in states}\n",
    "    while True:\n",
    "        delta = 0\n",
    "        for s in states:\n",
    "            v = V[s]\n",
    "            V[s] = max(\n",
    "                sum(p * (rewards(s, a, s_) + gamma * V[s_])\n",
    "                    for p, s_ in transition_model(s, a))\n",
    "                for a in actions\n",
    "            )\n",
    "            delta = max(delta, abs(v - V[s]))\n",
    "        if delta < theta:\n",
    "            break\n",
    "    policy = {\n",
    "        s: max(actions, key=lambda a: sum(p * (rewards(s, a, s_) + gamma * V[s_])\n",
    "                                          for p, s_ in transition_model(s, a)))\n",
    "        for s in states\n",
    "    }\n",
    "    return V, policy"
   ]
  },
  {
   "cell_type": "code",
   "execution_count": 20,
   "id": "191d24fd-6af0-429e-8f22-986c6394d14d",
   "metadata": {},
   "outputs": [],
   "source": [
    "def policy_iteration(states, actions, transition_model, rewards, gamma, theta):\n",
    "    policy = {s: random.choice(actions) for s in states}\n",
    "    V = {s: 0 for s in states}\n",
    "    is_policy_stable = False\n",
    "    while not is_policy_stable:\n",
    "        while True:\n",
    "            delta = 0\n",
    "            for s in states:\n",
    "                v = V[s]\n",
    "                a = policy[s]\n",
    "                V[s] = sum(p * (rewards(s, a, s_) + gamma * V[s_])\n",
    "                           for p, s_ in transition_model(s, a))\n",
    "                delta = max(delta, abs(v - V[s]))\n",
    "            if delta < theta:\n",
    "                break\n",
    "        is_policy_stable = True\n",
    "        for s in states:\n",
    "            old_action = policy[s]\n",
    "            new_action = max(actions, key=lambda a: sum(\n",
    "                p * (rewards(s, a, s_) + gamma * V[s_]) for p, s_ in transition_model(s, a)))\n",
    "            if old_action != new_action:\n",
    "                is_policy_stable = False\n",
    "            policy[s] = new_action\n",
    "    return V, policy"
   ]
  },
  {
   "cell_type": "code",
   "execution_count": 22,
   "id": "bc5b01fa-2c71-4ba6-9b0e-a72f0c96e7aa",
   "metadata": {},
   "outputs": [],
   "source": [
    "V, policy = value_iteration(states, actions, transition_model, rewards, gamma=0.9, theta=1e-4)"
   ]
  },
  {
   "cell_type": "code",
   "execution_count": 24,
   "id": "460c8d25-179f-4fa9-885c-2b99ab93c6ce",
   "metadata": {},
   "outputs": [
    {
     "name": "stdout",
     "output_type": "stream",
     "text": [
      "Value Iteration Policy (without passenger):\n",
      "(0,0): pickup\t(0,1): left\t(0,2): left\t(0,3): left\t(0,4): left\t\n",
      "(1,0): up\t(1,1): up\t(1,2): up\t(1,3): up\t(1,4): up\t\n",
      "(2,0): up\t(2,1): up\t(2,2): up\t(2,3): up\t(2,4): up\t\n",
      "(3,0): up\t(3,1): up\t(3,2): up\t(3,3): up\t(3,4): up\t\n",
      "(4,0): up\t(4,1): up\t(4,2): up\t(4,3): up\t(4,4): up\t\n"
     ]
    }
   ],
   "source": [
    "print(\"Value Iteration Policy (without passenger):\")\n",
    "for x in range(GRID_SIZE):\n",
    "    for y in range(GRID_SIZE):\n",
    "        print(f\"({x},{y}): {policy[(x, y, False)]}\", end='\\t')\n",
    "    print()"
   ]
  },
  {
   "cell_type": "code",
   "execution_count": 26,
   "id": "6c76bf81-dcdb-470c-b2ff-d02915a20fda",
   "metadata": {},
   "outputs": [
    {
     "name": "stdout",
     "output_type": "stream",
     "text": [
      "\n",
      "Value Iteration Policy (with passenger):\n",
      "(0,0): down\t(0,1): down\t(0,2): down\t(0,3): down\t(0,4): down\t\n",
      "(1,0): down\t(1,1): down\t(1,2): down\t(1,3): down\t(1,4): down\t\n",
      "(2,0): down\t(2,1): down\t(2,2): down\t(2,3): down\t(2,4): down\t\n",
      "(3,0): down\t(3,1): down\t(3,2): down\t(3,3): down\t(3,4): down\t\n",
      "(4,0): right\t(4,1): right\t(4,2): right\t(4,3): right\t(4,4): dropoff\t\n"
     ]
    }
   ],
   "source": [
    "print(\"\\nValue Iteration Policy (with passenger):\")\n",
    "for x in range(GRID_SIZE):\n",
    "    for y in range(GRID_SIZE):\n",
    "        print(f\"({x},{y}): {policy[(x, y, True)]}\", end='\\t')\n",
    "    print()"
   ]
  },
  {
   "cell_type": "code",
   "execution_count": 28,
   "id": "6f4a7797-e45b-4feb-8ca0-0c50e2074a6d",
   "metadata": {},
   "outputs": [],
   "source": [
    "V, policy = policy_iteration(states, actions, transition_model, rewards, gamma=0.9, theta=1e-4)"
   ]
  },
  {
   "cell_type": "code",
   "execution_count": 30,
   "id": "01c67346-17d8-443c-bd5a-ede614c375dc",
   "metadata": {},
   "outputs": [
    {
     "name": "stdout",
     "output_type": "stream",
     "text": [
      "\n",
      "Policy Iteration Policy (without passenger):\n",
      "(0,0): pickup\t(0,1): left\t(0,2): left\t(0,3): left\t(0,4): left\t\n",
      "(1,0): up\t(1,1): up\t(1,2): up\t(1,3): up\t(1,4): up\t\n",
      "(2,0): up\t(2,1): up\t(2,2): up\t(2,3): up\t(2,4): up\t\n",
      "(3,0): up\t(3,1): up\t(3,2): up\t(3,3): up\t(3,4): up\t\n",
      "(4,0): up\t(4,1): up\t(4,2): up\t(4,3): up\t(4,4): up\t\n"
     ]
    }
   ],
   "source": [
    "print(\"\\nPolicy Iteration Policy (without passenger):\")\n",
    "for x in range(GRID_SIZE):\n",
    "    for y in range(GRID_SIZE):\n",
    "        print(f\"({x},{y}): {policy[(x, y, False)]}\", end='\\t')\n",
    "    print()"
   ]
  },
  {
   "cell_type": "code",
   "execution_count": 32,
   "id": "1be368ec-cf9d-4603-9bec-d5c522636a50",
   "metadata": {},
   "outputs": [
    {
     "name": "stdout",
     "output_type": "stream",
     "text": [
      "\n",
      "Policy Iteration Policy (with passenger):\n",
      "(0,0): down\t(0,1): down\t(0,2): down\t(0,3): down\t(0,4): down\t\n",
      "(1,0): down\t(1,1): down\t(1,2): down\t(1,3): down\t(1,4): down\t\n",
      "(2,0): down\t(2,1): down\t(2,2): down\t(2,3): down\t(2,4): down\t\n",
      "(3,0): down\t(3,1): down\t(3,2): down\t(3,3): down\t(3,4): down\t\n",
      "(4,0): right\t(4,1): right\t(4,2): right\t(4,3): right\t(4,4): dropoff\t\n"
     ]
    }
   ],
   "source": [
    "print(\"\\nPolicy Iteration Policy (with passenger):\")\n",
    "for x in range(GRID_SIZE):\n",
    "    for y in range(GRID_SIZE):\n",
    "        print(f\"({x},{y}): {policy[(x, y, True)]}\", end='\\t')\n",
    "    print()"
   ]
  },
  {
   "cell_type": "code",
   "execution_count": null,
   "id": "59f3359d-8d84-42da-8ddf-92947621b540",
   "metadata": {},
   "outputs": [],
   "source": []
  }
 ],
 "metadata": {
  "kernelspec": {
   "display_name": "Python [conda env:base] *",
   "language": "python",
   "name": "conda-base-py"
  },
  "language_info": {
   "codemirror_mode": {
    "name": "ipython",
    "version": 3
   },
   "file_extension": ".py",
   "mimetype": "text/x-python",
   "name": "python",
   "nbconvert_exporter": "python",
   "pygments_lexer": "ipython3",
   "version": "3.12.7"
  }
 },
 "nbformat": 4,
 "nbformat_minor": 5
}
